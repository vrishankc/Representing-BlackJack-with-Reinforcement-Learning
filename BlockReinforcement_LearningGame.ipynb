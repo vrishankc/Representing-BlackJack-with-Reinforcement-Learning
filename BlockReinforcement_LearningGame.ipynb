{
  "cells": [
    {
      "cell_type": "code",
      "execution_count": null,
      "metadata": {
        "id": "tkSmiO9Nh0ac"
      },
      "outputs": [],
      "source": [
        "import random\n",
        "from collections import Counter\n",
        "import numpy as np\n",
        "import matplotlib.pyplot as plt\n",
        "import matplotlib.patches as mpatches\n",
        "from matplotlib import cm\n",
        "import gym\n",
        "\n",
        "def get_best_action(hand_val, dealer_card, usable_ace):\n",
        "    state = (hand_val, dealer_card, usable_ace)\n",
        "\n",
        "    # Compute Q(state, True)\n",
        "    if num_games[(state,True)] == 0:\n",
        "      Q_state_true = 0\n",
        "    else:\n",
        "      Q_state_true = sum_rewards[(state,True)] / num_games[(state,True)]\n",
        "    \n",
        "    # Compute Q(state, False)\n",
        "    if num_games[(state,False)] == 0:\n",
        "      Q_state_false = 0\n",
        "    else:\n",
        "      Q_state_false = sum_rewards[(state,False)] / num_games[(state,False)]\n",
        "\n",
        "    return Q_state_true >= Q_state_false\n",
        "\n",
        "def make_subplot(ax, usable_ace):\n",
        "    x_coords = np.arange(1, 11) # dealer's cards\n",
        "    y_coords = np.arange(11, 22) # gambler's hand values\n",
        "    Z = np.array([[get_best_action(y, x, usable_ace) for x in x_coords] for y in y_coords])\n",
        "    surf = ax.imshow(Z, cmap=plt.get_cmap('Set1', 2), extent=[0.5, 10.5, 21.5, 10.5])\n",
        "    plt.xticks(x_coords)\n",
        "    plt.yticks(y_coords)\n",
        "    plt.gca().invert_yaxis()\n",
        "    ax.set_xlabel('Dealer Showing')\n",
        "    ax.set_ylabel('Player Sum')\n",
        "    col1_patch = mpatches.Patch(color='darkgray', label='Hit')\n",
        "    col2_patch = mpatches.Patch(color='red', label='Stick')\n",
        "    plt.legend(handles=[col1_patch, col2_patch])\n",
        "\n",
        "def plot_strategy():\n",
        "  fig = plt.figure(figsize=(13, 13))\n",
        "  ax = fig.add_subplot(121)\n",
        "  ax.set_title('Usable Ace')\n",
        "  make_subplot(ax, True)\n",
        "  ax = fig.add_subplot(122)\n",
        "  ax.set_title('No Usable Ace')\n",
        "  make_subplot(ax, False)\n",
        "  plt.show()\n",
        "  "
      ]
    },
    {
      "cell_type": "code",
      "execution_count": null,
      "metadata": {
        "colab": {
          "base_uri": "https://localhost:8080/"
        },
        "id": "f6oZJUwQYx51",
        "outputId": "b7d89a5e-5dd4-452c-8280-e663297594ae"
      },
      "outputs": [
        {
          "name": "stderr",
          "output_type": "stream",
          "text": [
            "/usr/local/lib/python3.9/dist-packages/gym/core.py:317: DeprecationWarning: \u001b[33mWARN: Initializing wrapper in old step API which returns one bool instead of two. It is recommended to set `new_step_api=True` to use new step API. This will be the default behaviour in future.\u001b[0m\n",
            "  deprecation(\n",
            "/usr/local/lib/python3.9/dist-packages/gym/wrappers/step_api_compatibility.py:39: DeprecationWarning: \u001b[33mWARN: Initializing environment in old step API which returns one bool instead of two. It is recommended to set `new_step_api=True` to use new step API. This will be the default behaviour in future.\u001b[0m\n",
            "  deprecation(\n"
          ]
        }
      ],
      "source": [
        "blackjack = gym.make('Blackjack-v1')"
      ]
    },
    {
      "cell_type": "code",
      "execution_count": null,
      "metadata": {
        "colab": {
          "base_uri": "https://localhost:8080/"
        },
        "id": "e2aBEURIZfFC",
        "outputId": "e05c31a7-ed8b-4c49-b406-6f4b31baf05b"
      },
      "outputs": [
        {
          "name": "stdout",
          "output_type": "stream",
          "text": [
            "Starting state: (20, 1, False)\n",
            "Hand value: 20\n",
            "Dealer's card: 1\n",
            "Useable ace?: False\n"
          ]
        }
      ],
      "source": [
        "initial_state = blackjack.reset()\n",
        "\n",
        "print(\"Starting state:\", initial_state)\n",
        "print(\"Hand value:\", initial_state[0])\n",
        "print(\"Dealer's card:\", initial_state[1])\n",
        "print(\"Useable ace?:\", initial_state[2])"
      ]
    },
    {
      "cell_type": "code",
      "execution_count": null,
      "metadata": {
        "id": "yeMk_2aAeGgg"
      },
      "outputs": [],
      "source": [
        "hit = True\n",
        "stick = False"
      ]
    },
    {
      "cell_type": "code",
      "execution_count": null,
      "metadata": {
        "colab": {
          "base_uri": "https://localhost:8080/"
        },
        "id": "r4y_rsFWbU8g",
        "outputId": "ad258b46-0afd-4e5a-ee29-02fc0974eead"
      },
      "outputs": [
        {
          "name": "stdout",
          "output_type": "stream",
          "text": [
            "Action: Hit\n",
            "Resulting State: (22, 1, False)\n",
            "Reward: -1.0\n",
            "Game over?: True\n"
          ]
        }
      ],
      "source": [
        "next_state, reward, game_over, _ = blackjack.step(hit)\n",
        "print(\"Action: Hit\")\n",
        "print(\"Resulting State:\", next_state)\n",
        "print(\"Reward:\", reward)\n",
        "print(\"Game over?:\", game_over)"
      ]
    },
    {
      "cell_type": "code",
      "execution_count": null,
      "metadata": {
        "colab": {
          "base_uri": "https://localhost:8080/"
        },
        "id": "9rTt4Q4agwYp",
        "outputId": "1215ec55-e134-46e7-c688-8ea000d7e384"
      },
      "outputs": [
        {
          "name": "stdout",
          "output_type": "stream",
          "text": [
            "Hand value: 12\n",
            "Dealer's card: 8\n",
            "Useable ace?: False\n"
          ]
        }
      ],
      "source": [
        "initial_state = blackjack.reset()\n",
        "\n",
        "print(\"Hand value:\", initial_state[0])\n",
        "print(\"Dealer's card:\", initial_state[1])\n",
        "print(\"Useable ace?:\", initial_state[2])"
      ]
    },
    {
      "cell_type": "code",
      "execution_count": null,
      "metadata": {
        "colab": {
          "base_uri": "https://localhost:8080/"
        },
        "id": "DUpTE0VthL4_",
        "outputId": "1479eb57-aece-4561-930e-53f33aee0aa1"
      },
      "outputs": [
        {
          "name": "stdout",
          "output_type": "stream",
          "text": [
            "Hand value: 22\n",
            "Dealer's card: 8\n",
            "Useable ace?: False\n",
            "-----\n",
            "Reward: -1.0\n",
            "Game over?: True\n"
          ]
        }
      ],
      "source": [
        "next_state, reward, game_over, _ = blackjack.step(hit)\n",
        "\n",
        "print(\"Hand value:\", next_state[0])\n",
        "print(\"Dealer's card:\", next_state[1])\n",
        "print(\"Useable ace?:\", next_state[2])\n",
        "print(\"-----\")\n",
        "print(\"Reward:\", reward)\n",
        "print(\"Game over?:\", game_over)"
      ]
    },
    {
      "cell_type": "code",
      "execution_count": null,
      "metadata": {
        "colab": {
          "base_uri": "https://localhost:8080/"
        },
        "id": "mVBeJSW5hPsv",
        "outputId": "a5ad7491-47a2-483a-bda3-a945fc0328d5"
      },
      "outputs": [
        {
          "name": "stdout",
          "output_type": "stream",
          "text": [
            "Hand value: 22\n",
            "Dealer's card: 8\n",
            "Useable ace?: False\n",
            "-----\n",
            "Reward: -1.0\n",
            "Game over?: True\n"
          ]
        }
      ],
      "source": [
        "next_state, reward, game_over, _ = blackjack.step(stick)\n",
        "\n",
        "print(\"Hand value:\", next_state[0])\n",
        "print(\"Dealer's card:\", next_state[1])\n",
        "print(\"Useable ace?:\", next_state[2])\n",
        "print(\"-----\")\n",
        "print(\"Reward:\", reward)\n",
        "print(\"Game over?:\", game_over)"
      ]
    },
    {
      "cell_type": "code",
      "execution_count": null,
      "metadata": {
        "colab": {
          "base_uri": "https://localhost:8080/"
        },
        "id": "wBvbpJ7Eg8Bd",
        "outputId": "f56b55e5-be69-4739-fc78-46ba9ef4669b"
      },
      "outputs": [
        {
          "name": "stdout",
          "output_type": "stream",
          "text": [
            "Counter({'world': 2, 'hello': 1})\n"
          ]
        }
      ],
      "source": [
        "my_counter = Counter()\n",
        "my_counter[\"hello\"] = 1\n",
        "my_counter[\"world\"] = 2\n",
        "print(my_counter)"
      ]
    },
    {
      "cell_type": "code",
      "execution_count": null,
      "metadata": {
        "colab": {
          "base_uri": "https://localhost:8080/"
        },
        "id": "-OcDh9WLhaBA",
        "outputId": "5f006178-df50-4132-e288-deb113bf59af"
      },
      "outputs": [
        {
          "name": "stdout",
          "output_type": "stream",
          "text": [
            "0\n"
          ]
        }
      ],
      "source": [
        "print(my_counter[\"new_word\"])"
      ]
    },
    {
      "cell_type": "code",
      "execution_count": null,
      "metadata": {
        "colab": {
          "base_uri": "https://localhost:8080/"
        },
        "id": "q55_GxtKjWtK",
        "outputId": "45ca3a8a-e5aa-4250-cf9c-4d6cd1b22496"
      },
      "outputs": [
        {
          "name": "stdout",
          "output_type": "stream",
          "text": [
            "4\n"
          ]
        }
      ],
      "source": [
        "my_counter = Counter()\n",
        "my_counter['A'] = 3\n",
        "my_counter['C'] = 1\n",
        "my_counter['M'] = 1\n",
        "my_counter['R'] = 2\n",
        "my_counter['Y'] = 1\n",
        "\n",
        "print(my_counter['A'] + my_counter['M'] + my_counter['S'])"
      ]
    },
    {
      "cell_type": "code",
      "execution_count": null,
      "metadata": {
        "id": "_nM9-rKulPdb"
      },
      "outputs": [],
      "source": [
        "sum_rewards = Counter()\n",
        "num_games = Counter()"
      ]
    },
    {
      "cell_type": "code",
      "execution_count": null,
      "metadata": {
        "id": "1JfBDdE8n2EY"
      },
      "outputs": [],
      "source": [
        "def update_counters(game):\n",
        "\n",
        "  reward = game[-1]\n",
        "  for idx in range(len(game) - 1):\n",
        "    state_action_tuple = game[idx]\n",
        "    sum_rewards[state_action_tuple] += reward\n",
        "    num_games[state_action_tuple] += 1\n"
      ]
    },
    {
      "cell_type": "code",
      "execution_count": null,
      "metadata": {
        "id": "yVaC3sy_GjU8"
      },
      "outputs": [],
      "source": [
        "def best_action(state):\n",
        "\n",
        "  # Compute Q(state, True)\n",
        "  if num_games[(state,True)] == 0:\n",
        "    Q_state_true = 0\n",
        "  else:\n",
        "    Q_state_true = sum_rewards[(state,True)] / num_games[(state,True)]\n",
        "  \n",
        "  # Compute Q(state, False)\n",
        "  if num_games[(state,False)] == 0:\n",
        "    Q_state_false = 0\n",
        "  else:\n",
        "    Q_state_false = sum_rewards[(state,False)] / num_games[(state,False)]\n",
        "\n",
        "  return Q_state_true >= Q_state_false\n"
      ]
    },
    {
      "cell_type": "code",
      "execution_count": null,
      "metadata": {
        "id": "OcIimTixzyGK"
      },
      "outputs": [],
      "source": [
        "def epsilon_greedy(state, epsilon):\n",
        "\n",
        "  action = best_action(state)\n",
        "\n",
        "  # Return best_action with probability 1-epsilon\n",
        "  if np.random.binomial(n=1,p=1-epsilon):\n",
        "    return action\n",
        "  \n",
        "  # Otherwise, return random action\n",
        "  else:\n",
        "    return np.random.binomial(n=1,p=0.5)\n"
      ]
    },
    {
      "cell_type": "code",
      "execution_count": null,
      "metadata": {
        "id": "TFIbWc2x58m8"
      },
      "outputs": [],
      "source": [
        "def play_blackjack(epsilon):\n",
        "\n",
        "  game = []\n",
        "  state = blackjack.reset()\n",
        "  game_over = False\n",
        "  while game_over == False:\n",
        "      action = epsilon_greedy(state, epsilon)\n",
        "      next_state, reward, game_over, _ = blackjack.step(action)\n",
        "      game.append((state, action))\n",
        "      state = next_state\n",
        "      if game_over:\n",
        "        game.append(reward)    \n",
        "  return game\n"
      ]
    },
    {
      "cell_type": "code",
      "execution_count": null,
      "metadata": {
        "colab": {
          "background_save": true
        },
        "id": "oNB8AOHY7TtT"
      },
      "outputs": [],
      "source": [
        "epsilon = 0.15\n",
        "for iteration in range(10000000):\n",
        "\n",
        "  game = play_blackjack(epsilon)\n",
        "  update_counters(game)\n"
      ]
    },
    {
      "cell_type": "code",
      "execution_count": null,
      "metadata": {
        "colab": {
          "base_uri": "https://localhost:8080/",
          "height": 606
        },
        "id": "Wu8_JP628kp4",
        "outputId": "e07aaa8a-8b4a-45a3-bb33-0f746b00483d"
      },
      "outputs": [
        {
          "data": {
            "image/png": "[encoded data removed]",
            "text/plain": [
              "<Figure size 1300x1300 with 2 Axes>"
            ]
          },
          "metadata": {},
          "output_type": "display_data"
        }
      ],
      "source": [
        "plot_strategy()"
      ]
    }
  ],
  "metadata": {
    "colab": {
      "provenance": []
    },
    "kernelspec": {
      "display_name": "Python 3",
      "name": "python3"
    }
  },
  "nbformat": 4,
  "nbformat_minor": 0
}